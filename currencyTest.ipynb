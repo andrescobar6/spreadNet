{
 "cells": [
  {
   "cell_type": "code",
   "execution_count": 1,
   "metadata": {},
   "outputs": [],
   "source": [
    "import os\n",
    "import requests\n",
    "import pandas as pd\n",
    "from dotenv import load_dotenv\n",
    "from google.cloud import storage\n",
    "\n",
    "load_dotenv(\"currencyLayer.env\")\n",
    "access_key = os.getenv('API_CURRENCYLAYER')\n",
    "\n",
    "#_____\n",
    "\n",
    "url = \"http://apilayer.net/api/live\"\n",
    "\n",
    "headers = {\n",
    "    \"access_key\": access_key,\n",
    "    \"source\": \"USD\",\n",
    "    \"currencies \": \"ARS,CLP,PEN,COP\",\n",
    "    \"format\": 1\n",
    "}\n",
    "response = requests.get(url, params=headers)\n",
    "response = response.json()\n",
    "\n",
    "#_____\n",
    "\n",
    "response=pd.DataFrame(response)\n",
    "response[\"MARKET\"]=list(response.index.values)\n",
    "response.reset_index(inplace=True,drop=True)\n",
    "response = response[[\"MARKET\",\"quotes\"]]\n",
    "response.columns=[\"MARKET\",\"QUOTES\"]\n",
    "response=response.loc[response.MARKET.isin([\"USDARS\",\"USDCLP\",\"USDPEN\",\"USDCOP\"])]\n",
    "response.reset_index(inplace=True,drop=True)\n",
    "response=response.to_dict()\n",
    "\n",
    "#_____\n",
    "\n",
    "os.environ[\"GOOGLE_APPLICATION_CREDENTIALS\"]=\"gcp_json.json\"\n",
    "storage_client = storage.Client()\n",
    "bucket = storage_client.get_bucket(bucket_or_name=\"marketmaker\")\n",
    "\n",
    "blob=bucket.blob(\"fiatQuotes.txt\")\n",
    "blob.upload_from_string(data=str(response))"
   ]
  }
 ],
 "metadata": {
  "interpreter": {
   "hash": "42588fd11209419b7c81abe23e31a1d2101f60811b02170c268e57ebb57d5d9a"
  },
  "kernelspec": {
   "display_name": "Python 3.7.6 ('base')",
   "language": "python",
   "name": "python3"
  },
  "language_info": {
   "codemirror_mode": {
    "name": "ipython",
    "version": 3
   },
   "file_extension": ".py",
   "mimetype": "text/x-python",
   "name": "python",
   "nbconvert_exporter": "python",
   "pygments_lexer": "ipython3",
   "version": "3.7.6"
  },
  "orig_nbformat": 4
 },
 "nbformat": 4,
 "nbformat_minor": 2
}
